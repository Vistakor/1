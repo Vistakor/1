{
  "cells": [
    {
      "cell_type": "markdown",
      "metadata": {
        "id": "zGxXHqwmSND9"
      },
      "source": [
        "# Телеграм-бот"
      ]
    },
    {
      "cell_type": "code",
      "execution_count": 1,
      "metadata": {
        "colab": {
          "base_uri": "https://localhost:8080/"
        },
        "id": "SOx_SKdRN6s0",
        "outputId": "39183586-48fc-48f2-a307-eb2b73101f75"
      },
      "outputs": [
        {
          "output_type": "stream",
          "name": "stdout",
          "text": [
            "Looking in indexes: https://pypi.org/simple, https://us-python.pkg.dev/colab-wheels/public/simple/\n",
            "Collecting pyTelegramBotAPI\n",
            "  Downloading pyTelegramBotAPI-4.7.1.tar.gz (213 kB)\n",
            "\u001b[K     |████████████████████████████████| 213 kB 33.1 MB/s \n",
            "\u001b[?25hRequirement already satisfied: requests in /usr/local/lib/python3.7/dist-packages (from pyTelegramBotAPI) (2.23.0)\n",
            "Requirement already satisfied: chardet<4,>=3.0.2 in /usr/local/lib/python3.7/dist-packages (from requests->pyTelegramBotAPI) (3.0.4)\n",
            "Requirement already satisfied: urllib3!=1.25.0,!=1.25.1,<1.26,>=1.21.1 in /usr/local/lib/python3.7/dist-packages (from requests->pyTelegramBotAPI) (1.24.3)\n",
            "Requirement already satisfied: idna<3,>=2.5 in /usr/local/lib/python3.7/dist-packages (from requests->pyTelegramBotAPI) (2.10)\n",
            "Requirement already satisfied: certifi>=2017.4.17 in /usr/local/lib/python3.7/dist-packages (from requests->pyTelegramBotAPI) (2022.9.24)\n",
            "Building wheels for collected packages: pyTelegramBotAPI\n",
            "  Building wheel for pyTelegramBotAPI (setup.py) ... \u001b[?25l\u001b[?25hdone\n",
            "  Created wheel for pyTelegramBotAPI: filename=pyTelegramBotAPI-4.7.1-py3-none-any.whl size=196989 sha256=c9177f64188c74ed1eb7759c0ac62bb68e7fa4726eb9f5ba8798bb9ece636ee1\n",
            "  Stored in directory: /root/.cache/pip/wheels/84/72/5f/8a7b3ca1ef1250002cf3bac48e0c72c5ee5c9596a5b1295dc1\n",
            "Successfully built pyTelegramBotAPI\n",
            "Installing collected packages: pyTelegramBotAPI\n",
            "Successfully installed pyTelegramBotAPI-4.7.1\n"
          ]
        }
      ],
      "source": [
        "!pip install pyTelegramBotAPI"
      ]
    },
    {
      "cell_type": "code",
      "execution_count": 9,
      "metadata": {
        "id": "QYxDPzTQOEaa"
      },
      "outputs": [],
      "source": [
        "import cv2\n",
        "import telebot\n",
        "from google.colab.patches import cv2_imshow"
      ]
    },
    {
      "cell_type": "code",
      "execution_count": 3,
      "metadata": {
        "colab": {
          "base_uri": "https://localhost:8080/"
        },
        "id": "8UlRIVhaYPd8",
        "outputId": "6ce97616-4cd3-454b-9247-ecb69a5fd79d"
      },
      "outputs": [
        {
          "output_type": "stream",
          "name": "stdout",
          "text": [
            "Cloning into 'darknet'...\n",
            "remote: Enumerating objects: 15502, done.\u001b[K\n",
            "remote: Total 15502 (delta 0), reused 0 (delta 0), pack-reused 15502\u001b[K\n",
            "Receiving objects: 100% (15502/15502), 14.17 MiB | 6.45 MiB/s, done.\n",
            "Resolving deltas: 100% (10405/10405), done.\n"
          ]
        }
      ],
      "source": [
        "# скопируем репозиторий darknet \n",
        "!git clone https://github.com/AlexeyAB/darknet"
      ]
    },
    {
      "cell_type": "code",
      "execution_count": 4,
      "metadata": {
        "colab": {
          "base_uri": "https://localhost:8080/"
        },
        "id": "FGNvNdcX9rGp",
        "outputId": "60198306-62be-438b-881e-10aea57bc154"
      },
      "outputs": [
        {
          "output_type": "stream",
          "name": "stdout",
          "text": [
            "/content/darknet\n"
          ]
        }
      ],
      "source": [
        "# изменим кое-какие настройки\n",
        "%cd darknet\n",
        "!sed -i 's/OPENCV=0/OPENCV=1/' Makefile\n",
        "!sed -i 's/GPU=0/GPU=1/' Makefile\n",
        "!sed -i 's/CUDNN=0/CUDNN=1/' Makefile\n",
        "!sed -i 's/CUDNN_HALF=0/CUDNN_HALF=1/' Makefile\n",
        "!sed -i 's/LIBSO=0/LIBSO=1/' Makefile"
      ]
    },
    {
      "cell_type": "code",
      "execution_count": null,
      "metadata": {
        "id": "a5ogzikW9wk6"
      },
      "outputs": [],
      "source": [
        "# соберем получившееся решение, чтобы запускать файл darknet.py \n",
        "!make"
      ]
    },
    {
      "cell_type": "code",
      "execution_count": 6,
      "metadata": {
        "colab": {
          "base_uri": "https://localhost:8080/"
        },
        "id": "AORz9dHs7_kc",
        "outputId": "c9a58153-aad6-4736-a654-b71025c36854"
      },
      "outputs": [
        {
          "output_type": "stream",
          "name": "stdout",
          "text": [
            "--2022-11-09 11:19:33--  https://docs.google.com/uc?export=download&confirm=t&id=1V3vsIaxAlGWvK4Aar9bAiK5U0QFttKwq\n",
            "Resolving docs.google.com (docs.google.com)... 74.125.24.138, 74.125.24.102, 74.125.24.139, ...\n",
            "Connecting to docs.google.com (docs.google.com)|74.125.24.138|:443... connected.\n",
            "HTTP request sent, awaiting response... 303 See Other\n",
            "Location: https://doc-14-84-docs.googleusercontent.com/docs/securesc/ha0ro937gcuc7l7deffksulhg5h7mbp1/67aj3arm1mkfk37ff6g34doe7nsl7212/1667992725000/17800843676226924807/*/1V3vsIaxAlGWvK4Aar9bAiK5U0QFttKwq?e=download&uuid=03fb4684-51be-4277-887e-ce02e9290134 [following]\n",
            "Warning: wildcards not supported in HTTP.\n",
            "--2022-11-09 11:19:34--  https://doc-14-84-docs.googleusercontent.com/docs/securesc/ha0ro937gcuc7l7deffksulhg5h7mbp1/67aj3arm1mkfk37ff6g34doe7nsl7212/1667992725000/17800843676226924807/*/1V3vsIaxAlGWvK4Aar9bAiK5U0QFttKwq?e=download&uuid=03fb4684-51be-4277-887e-ce02e9290134\n",
            "Resolving doc-14-84-docs.googleusercontent.com (doc-14-84-docs.googleusercontent.com)... 142.251.10.132, 2404:6800:4003:c0f::84\n",
            "Connecting to doc-14-84-docs.googleusercontent.com (doc-14-84-docs.googleusercontent.com)|142.251.10.132|:443... connected.\n",
            "HTTP request sent, awaiting response... 200 OK\n",
            "Length: 211944840 (202M) [application/octet-stream]\n",
            "Saving to: ‘yolov4-csp.weights’\n",
            "\n",
            "yolov4-csp.weights  100%[===================>] 202.13M   214MB/s    in 0.9s    \n",
            "\n",
            "2022-11-09 11:19:36 (214 MB/s) - ‘yolov4-csp.weights’ saved [211944840/211944840]\n",
            "\n"
          ]
        }
      ],
      "source": [
        "# скачаем файл весов модели yolov4, натренированный определять 80 классов объектов \n",
        "!wget --load-cookies /tmp/cookies.txt \"https://docs.google.com/uc?export=download&confirm=$(wget --quiet --save-cookies /tmp/cookies.txt --keep-session-cookies --no-check-certificate 'https://docs.google.com/uc?export=download&id=1V3vsIaxAlGWvK4Aar9bAiK5U0QFttKwq' -O- | sed -rn 's/.*confirm=([0-9A-Za-z_]+).*/\\1\\n/p')&id=1V3vsIaxAlGWvK4Aar9bAiK5U0QFttKwq\" -O yolov4-csp.weights && rm -rf /tmp/cookies.txt"
      ]
    },
    {
      "cell_type": "markdown",
      "metadata": {
        "id": "nQiJCCrLy_sB"
      },
      "source": [
        "Я сделал отдельный файл datatoken.py для токена"
      ]
    },
    {
      "cell_type": "code",
      "execution_count": 24,
      "metadata": {
        "id": "LIuOOO7tOiv5"
      },
      "outputs": [],
      "source": [
        "bot = telebot.TeleBot('5532689573:AAH4xa87G9ak2nJalDinLTfdOeWtnFuba70')"
      ]
    },
    {
      "cell_type": "code",
      "source": [
        "from darknet import *\n",
        "# загрузим YOLOv4 \n",
        "network, class_names, class_colors = load_network(\"cfg/yolov4-csp.cfg\", \"cfg/coco.data\", \"yolov4-csp.weights\")\n",
        "width = network_width(network)\n",
        "height = network_height(network)\n",
        "\n",
        "# darknet_helper функция для детектирования объектов на изображении\n",
        "def darknet_helper(img, width, height):\n",
        "  darknet_image = make_image(width, height, 3)\n",
        "  img_rgb = cv2.cvtColor(img, cv2.COLOR_BGR2RGB)\n",
        "  img_resized = cv2.resize(img_rgb, (width, height),\n",
        "                              interpolation=cv2.INTER_LINEAR)\n",
        "\n",
        "  # пересчет координат границ объектов, чтобы можно было отобразить на кадре\n",
        "  img_height, img_width, _ = img.shape\n",
        "  width_ratio = img_width/width\n",
        "  height_ratio = img_height/height\n",
        "\n",
        "  # запуск модели\n",
        "  copy_image_from_bytes(darknet_image, img_resized.tobytes())\n",
        "  detections = detect_image(network, class_names, darknet_image)\n",
        "  free_image(darknet_image)\n",
        "  return detections, width_ratio, height_ratio"
      ],
      "metadata": {
        "id": "X5j8e4IiGi-W"
      },
      "execution_count": 7,
      "outputs": []
    },
    {
      "cell_type": "code",
      "execution_count": 25,
      "metadata": {
        "colab": {
          "base_uri": "https://localhost:8080/"
        },
        "id": "L9Ny4IowQ2WY",
        "outputId": "14db250e-5beb-49e7-e418-c1890e12fb85"
      },
      "outputs": [
        {
          "output_type": "stream",
          "name": "stdout",
          "text": [
            "{'content_type': 'photo', 'id': 14, 'message_id': 14, 'from_user': {'id': 453971170, 'is_bot': False, 'first_name': 'Виктор', 'username': None, 'last_name': None, 'language_code': 'ru', 'can_join_groups': None, 'can_read_all_group_messages': None, 'supports_inline_queries': None, 'is_premium': None, 'added_to_attachment_menu': None}, 'date': 1667995780, 'chat': {'id': 453971170, 'type': 'private', 'title': None, 'username': None, 'first_name': 'Виктор', 'last_name': None, 'photo': None, 'bio': None, 'join_to_send_messages': None, 'join_by_request': None, 'has_private_forwards': None, 'has_restricted_voice_and_video_messages': None, 'description': None, 'invite_link': None, 'pinned_message': None, 'permissions': None, 'slow_mode_delay': None, 'message_auto_delete_time': None, 'has_protected_content': None, 'sticker_set_name': None, 'can_set_sticker_set': None, 'linked_chat_id': None, 'location': None}, 'sender_chat': None, 'forward_from': None, 'forward_from_chat': None, 'forward_from_message_id': None, 'forward_signature': None, 'forward_sender_name': None, 'forward_date': None, 'is_automatic_forward': None, 'reply_to_message': None, 'via_bot': None, 'edit_date': None, 'has_protected_content': None, 'media_group_id': None, 'author_signature': None, 'text': None, 'entities': None, 'caption_entities': None, 'audio': None, 'document': None, 'photo': [<telebot.types.PhotoSize object at 0x7f6d581ae390>, <telebot.types.PhotoSize object at 0x7f6d581ae710>, <telebot.types.PhotoSize object at 0x7f6d581ae1d0>, <telebot.types.PhotoSize object at 0x7f6d581aee10>], 'sticker': None, 'video': None, 'video_note': None, 'voice': None, 'caption': None, 'contact': None, 'location': None, 'venue': None, 'animation': None, 'dice': None, 'new_chat_member': None, 'new_chat_members': None, 'left_chat_member': None, 'new_chat_title': None, 'new_chat_photo': None, 'delete_chat_photo': None, 'group_chat_created': None, 'supergroup_chat_created': None, 'channel_chat_created': None, 'migrate_to_chat_id': None, 'migrate_from_chat_id': None, 'pinned_message': None, 'invoice': None, 'successful_payment': None, 'connected_website': None, 'reply_markup': None, 'json': {'message_id': 14, 'from': {'id': 453971170, 'is_bot': False, 'first_name': 'Виктор', 'language_code': 'ru'}, 'chat': {'id': 453971170, 'first_name': 'Виктор', 'type': 'private'}, 'date': 1667995780, 'photo': [{'file_id': 'AgACAgIAAxkBAAMOY2uYgyAkhWQE7zdoL6woI6oJpNQAAhLBMRslumBLPQABmmiqB9lqAQADAgADcwADKwQ', 'file_unique_id': 'AQADEsExGyW6YEt4', 'file_size': 1444, 'width': 51, 'height': 90}, {'file_id': 'AgACAgIAAxkBAAMOY2uYgyAkhWQE7zdoL6woI6oJpNQAAhLBMRslumBLPQABmmiqB9lqAQADAgADbQADKwQ', 'file_unique_id': 'AQADEsExGyW6YEty', 'file_size': 17445, 'width': 180, 'height': 320}, {'file_id': 'AgACAgIAAxkBAAMOY2uYgyAkhWQE7zdoL6woI6oJpNQAAhLBMRslumBLPQABmmiqB9lqAQADAgADeAADKwQ', 'file_unique_id': 'AQADEsExGyW6YEt9', 'file_size': 64528, 'width': 450, 'height': 800}, {'file_id': 'AgACAgIAAxkBAAMOY2uYgyAkhWQE7zdoL6woI6oJpNQAAhLBMRslumBLPQABmmiqB9lqAQADAgADeQADKwQ', 'file_unique_id': 'AQADEsExGyW6YEt-', 'file_size': 114269, 'width': 720, 'height': 1280}]}}\n"
          ]
        },
        {
          "output_type": "stream",
          "name": "stderr",
          "text": [
            "2022-11-09 12:10:08,966 (__init__.py:970 MainThread) ERROR - TeleBot: \"Infinity polling: polling exited\"\n",
            "ERROR:TeleBot:Infinity polling: polling exited\n",
            "2022-11-09 12:10:08,970 (__init__.py:972 MainThread) ERROR - TeleBot: \"Break infinity polling\"\n",
            "ERROR:TeleBot:Break infinity polling\n"
          ]
        }
      ],
      "source": [
        "@bot.message_handler(content_types=['photo'])\n",
        "def photographio(message):\n",
        "  print(message)\n",
        "  file = bot.get_file(message.photo[-1].file_id)\n",
        "  bot.send_message(message.from_user.id, 'Обработка')\n",
        "  dfile = bot.download_file(file.file_path)\n",
        "  fimg = message.photo[-1].file_id + '.png'\n",
        "  with open(fimg, 'wb') as new_file:\n",
        "     new_file.write(dfile)\n",
        "  new_file.close()\n",
        "  image = cv2.imread(fimg)\n",
        "  detections, width_ratio, height_ratio = darknet_helper(image, width, height)\n",
        "\n",
        "  for label, confidence, bbox in detections:\n",
        "    left, top, right, bottom = bbox2points(bbox)\n",
        "    left, top, right, bottom = int(left * width_ratio), int(top * height_ratio), int(right * width_ratio), int(bottom * height_ratio)\n",
        "    cv2.rectangle(image, (left, top), (right, bottom), class_colors[label], 2)\n",
        "    cv2.putText(image, \"{} [{:.2f}]\".format(label, float(confidence)),\n",
        "                    (left, top - 5), cv2.FONT_HERSHEY_SIMPLEX, 0.5,\n",
        "                    class_colors[label], 2)\n",
        "    \n",
        "  cv2.imwrite(fimg, image)\n",
        "  with open(fimg,'rb') as fil:\n",
        "        byte = fil.read()\n",
        "  bot.send_photo(message.from_user.id,  byte)\n",
        "\n",
        "bot.infinity_polling()\n",
        "\n"
      ]
    }
  ],
  "metadata": {
    "accelerator": "GPU",
    "colab": {
      "collapsed_sections": [],
      "provenance": []
    },
    "kernelspec": {
      "display_name": "Python 3",
      "name": "python3"
    },
    "language_info": {
      "name": "python"
    }
  },
  "nbformat": 4,
  "nbformat_minor": 0
}